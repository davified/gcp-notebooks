{
 "cells": [
  {
   "cell_type": "markdown",
   "metadata": {},
   "source": [
    "# Demand forecasting with BigQuery and TensorFlow"
   ]
  },
  {
   "cell_type": "markdown",
   "metadata": {},
   "source": [
    "## BigQuery tutorial"
   ]
  },
  {
   "cell_type": "markdown",
   "metadata": {},
   "source": [
    "In this notebook, we will develop a machine learning model to predict the demand for taxi cabs in New York.\n",
    "\n",
    "To develop the model, we will need to get historical data of taxicab usage. This data exists in BigQuery. Let's start by looking at the schema."
   ]
  },
  {
   "cell_type": "code",
   "execution_count": 1,
   "metadata": {
    "collapsed": true
   },
   "outputs": [],
   "source": [
    "import google.datalab.bigquery as bq\n",
    "import pandas as pd\n",
    "import numpy as np\n",
    "import shutil"
   ]
  },
  {
   "cell_type": "code",
   "execution_count": 2,
   "metadata": {
    "collapsed": false
   },
   "outputs": [
    {
     "data": {
      "text/html": [
       "\n",
       "    <div class=\"bqsv\" id=\"1_151848393664\"></div>\n",
       "    <script>\n",
       "      require.config({\n",
       "        map: {\n",
       "          '*': {\n",
       "            datalab: 'nbextensions/gcpdatalab'\n",
       "          }\n",
       "        },\n",
       "      });\n",
       "\n",
       "      require(['datalab/bigquery', 'datalab/element!1_151848393664',\n",
       "          'datalab/style!/nbextensions/gcpdatalab/bigquery.css'],\n",
       "        function(bq, dom) {\n",
       "          bq.renderSchema(dom, [{\"description\": \"A code indicating the TPEP provider that provided the record. 1= Creative Mobile Technologies, LLC; 2= VeriFone Inc\", \"type\": \"STRING\", \"name\": \"vendor_id\", \"mode\": \"REQUIRED\"}, {\"description\": \"The date and time when the meter was engaged.\", \"type\": \"TIMESTAMP\", \"name\": \"pickup_datetime\", \"mode\": \"NULLABLE\"}, {\"description\": \"The date and time when the meter was disengaged.\", \"type\": \"TIMESTAMP\", \"name\": \"dropoff_datetime\", \"mode\": \"NULLABLE\"}, {\"description\": \"The number of passengers in the vehicle. This is a driver-entered value\", \"type\": \"INTEGER\", \"name\": \"passenger_count\", \"mode\": \"NULLABLE\"}, {\"description\": \"The elapsed trip distance in miles reported by the taximeter.\", \"type\": \"FLOAT\", \"name\": \"trip_distance\", \"mode\": \"NULLABLE\"}, {\"description\": \"Longitude where the meter was engaged.\", \"type\": \"FLOAT\", \"name\": \"pickup_longitude\", \"mode\": \"NULLABLE\"}, {\"description\": \"Latitude where the meter was engaged.\", \"type\": \"FLOAT\", \"name\": \"pickup_latitude\", \"mode\": \"NULLABLE\"}, {\"description\": \"The final rate code in effect at the end of the trip. 1= Standard rate 2=JFK 3=Newark 4=Nassau or Westchester 5=Negotiated fare 6=Group ride\", \"type\": \"INTEGER\", \"name\": \"rate_code\", \"mode\": \"NULLABLE\"}, {\"description\": \"This flag indicates whether the trip record was held in vehicle memory before sending to the vendor, aka \\u201cstore and forward,\\u201d because the vehicle did not have a connection to the server. Y= store and forward trip N= not a store and forward trip\", \"type\": \"STRING\", \"name\": \"store_and_fwd_flag\", \"mode\": \"NULLABLE\"}, {\"description\": \"Longitude where the meter was disengaged\", \"type\": \"FLOAT\", \"name\": \"dropoff_longitude\", \"mode\": \"NULLABLE\"}, {\"description\": \"Latitude where the meter was disengaged.\", \"type\": \"FLOAT\", \"name\": \"dropoff_latitude\", \"mode\": \"NULLABLE\"}, {\"description\": \"A numeric code signifying how the passenger paid for the trip. 1= Credit card 2= Cash 3= No charge 4= Dispute 5= Unknown 6= Voided trip\", \"type\": \"STRING\", \"name\": \"payment_type\", \"mode\": \"NULLABLE\"}, {\"description\": \"The time-and-distance fare calculated by the meter\", \"type\": \"FLOAT\", \"name\": \"fare_amount\", \"mode\": \"NULLABLE\"}, {\"description\": \"Miscellaneous extras and surcharges. Currently, this only includes the $0.50 and $1 rush hour and overnight charges.\", \"type\": \"FLOAT\", \"name\": \"extra\", \"mode\": \"NULLABLE\"}, {\"description\": \"$0.50 MTA tax that is automatically triggered based on the metered rate in use\", \"type\": \"FLOAT\", \"name\": \"mta_tax\", \"mode\": \"NULLABLE\"}, {\"description\": \"Tip amount \\u2013 This field is automatically populated for credit card tips. Cash tips are not included\", \"type\": \"FLOAT\", \"name\": \"tip_amount\", \"mode\": \"NULLABLE\"}, {\"description\": \"Total amount of all tolls paid in trip.\", \"type\": \"FLOAT\", \"name\": \"tolls_amount\", \"mode\": \"NULLABLE\"}, {\"description\": \"$0.30 improvement surcharge assessed trips at the flag drop. The improvement surcharge began being levied in 2015.\", \"type\": \"FLOAT\", \"name\": \"imp_surcharge\", \"mode\": \"NULLABLE\"}, {\"description\": \"The total amount charged to passengers. Does not include cash tips\", \"type\": \"FLOAT\", \"name\": \"total_amount\", \"mode\": \"NULLABLE\"}]);\n",
       "        }\n",
       "      );\n",
       "    </script>\n",
       "    "
      ],
      "text/plain": [
       "<IPython.core.display.HTML object>"
      ]
     },
     "execution_count": 2,
     "metadata": {},
     "output_type": "execute_result"
    }
   ],
   "source": [
    "%bq tables describe --name bigquery-public-data.new_york.tlc_yellow_trips_2015\n"
   ]
  },
  {
   "cell_type": "markdown",
   "metadata": {},
   "source": [
    "### Analyzing taxicab demand\n",
    "Let's pull the number of trips for each day in the 2015 dataset using Standard SQL."
   ]
  },
  {
   "cell_type": "code",
   "execution_count": 4,
   "metadata": {
    "collapsed": false
   },
   "outputs": [
    {
     "data": {
      "text/html": [
       "\n",
       "    <div class=\"bqtv\" id=\"2_151848404338\"><table><tr><th>daynumber</th></tr><tr><td>199</td></tr><tr><td>74</td></tr><tr><td>120</td></tr><tr><td>148</td></tr><tr><td>171</td></tr></table></div>\n",
       "    <br />(rows: 5, time: 1.7s,     1GB processed, job: job_JUTuMhWAfOWuO9M2AiOrsWT_I_lG)<br />\n",
       "    <script>\n",
       "\n",
       "      require.config({\n",
       "        paths: {\n",
       "          d3: '//cdnjs.cloudflare.com/ajax/libs/d3/3.4.13/d3',\n",
       "          plotly: 'https://cdn.plot.ly/plotly-1.5.1.min.js?noext',\n",
       "          jquery: '//ajax.googleapis.com/ajax/libs/jquery/2.0.0/jquery.min'\n",
       "        },\n",
       "        map: {\n",
       "          '*': {\n",
       "            datalab: 'nbextensions/gcpdatalab'\n",
       "          }\n",
       "        },\n",
       "        shim: {\n",
       "          plotly: {\n",
       "            deps: ['d3', 'jquery'],\n",
       "            exports: 'plotly'\n",
       "          }\n",
       "        }\n",
       "      });\n",
       "\n",
       "      require(['datalab/charting', 'datalab/element!2_151848404338', 'base/js/events',\n",
       "          'datalab/style!/nbextensions/gcpdatalab/charting.css'],\n",
       "        function(charts, dom, events) {\n",
       "          charts.render('gcharts', dom, events, 'table', [], {\"rows\": [{\"c\": [{\"v\": 199}]}, {\"c\": [{\"v\": 74}]}, {\"c\": [{\"v\": 120}]}, {\"c\": [{\"v\": 148}]}, {\"c\": [{\"v\": 171}]}], \"cols\": [{\"type\": \"number\", \"id\": \"daynumber\", \"label\": \"daynumber\"}]},\n",
       "            {\n",
       "              pageSize: 25,\n",
       "              cssClassNames:  {\n",
       "                tableRow: 'gchart-table-row',\n",
       "                headerRow: 'gchart-table-headerrow',\n",
       "                oddTableRow: 'gchart-table-oddrow',\n",
       "                selectedTableRow: 'gchart-table-selectedrow',\n",
       "                hoverTableRow: 'gchart-table-hoverrow',\n",
       "                tableCell: 'gchart-table-cell',\n",
       "                headerCell: 'gchart-table-headercell',\n",
       "                rowNumberCell: 'gchart-table-rownumcell'\n",
       "              }\n",
       "            },\n",
       "            {source_index: 0, fields: 'daynumber'},\n",
       "            0,\n",
       "            5);\n",
       "        }\n",
       "      );\n",
       "    </script>\n",
       "  "
      ],
      "text/plain": [
       "QueryResultsTable job_JUTuMhWAfOWuO9M2AiOrsWT_I_lG"
      ]
     },
     "execution_count": 4,
     "metadata": {},
     "output_type": "execute_result"
    }
   ],
   "source": [
    "%bq query\n",
    "SELECT\n",
    "  EXTRACT (DAYOFYEAR from pickup_datetime) AS daynumber\n",
    "FROM `bigquery-public-data.new_york.tlc_yellow_trips_2015`\n",
    "LIMIT 5"
   ]
  },
  {
   "cell_type": "markdown",
   "metadata": {},
   "source": [
    "#### Modular queries and Pandas dataframe\n",
    "Let's use the total number of trips as our proxy for taxicab demand (other reasonable alternatives are total trip_distance or total fare_amount). It is possible to predict multiple variables using Tensorflow, but for simplicity, we will stick to just predicting the number of trips.\n",
    "\n",
    "We will give our query a name 'taxiquery' and have it use an input variable '$YEAR'. We can then invoke the 'taxiquery' by giving it a YEAR. The to_dataframe() converts the BigQuery result into a Pandas dataframe."
   ]
  },
  {
   "cell_type": "code",
   "execution_count": 5,
   "metadata": {
    "collapsed": true
   },
   "outputs": [],
   "source": [
    "%bq query -n taxiquery\n",
    "WITH trips AS (\n",
    "  SELECT EXTRACT (DAYOFYEAR from pickup_datetime) AS daynumber \n",
    "  FROM `bigquery-public-data.new_york.tlc_yellow_trips_*`\n",
    "  where _TABLE_SUFFIX = @YEAR\n",
    ")\n",
    "SELECT daynumber, COUNT(1) AS numtrips FROM trips\n",
    "GROUP BY daynumber ORDER BY daynumber"
   ]
  },
  {
   "cell_type": "code",
   "execution_count": 8,
   "metadata": {
    "collapsed": false
   },
   "outputs": [
    {
     "data": {
      "text/plain": [
       "google.datalab.bigquery._query.Query"
      ]
     },
     "execution_count": 8,
     "metadata": {},
     "output_type": "execute_result"
    }
   ],
   "source": [
    "type(taxiquery)"
   ]
  },
  {
   "cell_type": "code",
   "execution_count": 11,
   "metadata": {
    "collapsed": false
   },
   "outputs": [
    {
     "data": {
      "text/html": [
       "<div>\n",
       "<table border=\"1\" class=\"dataframe\">\n",
       "  <thead>\n",
       "    <tr style=\"text-align: right;\">\n",
       "      <th></th>\n",
       "      <th>daynumber</th>\n",
       "      <th>numtrips</th>\n",
       "    </tr>\n",
       "  </thead>\n",
       "  <tbody>\n",
       "    <tr>\n",
       "      <th>0</th>\n",
       "      <td>1</td>\n",
       "      <td>382014</td>\n",
       "    </tr>\n",
       "    <tr>\n",
       "      <th>1</th>\n",
       "      <td>2</td>\n",
       "      <td>345296</td>\n",
       "    </tr>\n",
       "    <tr>\n",
       "      <th>2</th>\n",
       "      <td>3</td>\n",
       "      <td>406769</td>\n",
       "    </tr>\n",
       "    <tr>\n",
       "      <th>3</th>\n",
       "      <td>4</td>\n",
       "      <td>328848</td>\n",
       "    </tr>\n",
       "    <tr>\n",
       "      <th>4</th>\n",
       "      <td>5</td>\n",
       "      <td>363454</td>\n",
       "    </tr>\n",
       "  </tbody>\n",
       "</table>\n",
       "</div>"
      ],
      "text/plain": [
       "   daynumber  numtrips\n",
       "0          1    382014\n",
       "1          2    345296\n",
       "2          3    406769\n",
       "3          4    328848\n",
       "4          5    363454"
      ]
     },
     "execution_count": 11,
     "metadata": {},
     "output_type": "execute_result"
    }
   ],
   "source": [
    "query_parameters = [\n",
    "  {\n",
    "    'name': 'YEAR',\n",
    "    'parameterType': {'type': 'STRING'},\n",
    "    'parameterValue': {'value': 2015}\n",
    "  }\n",
    "]\n",
    "trips = taxiquery.execute(query_params=query_parameters).result().to_dataframe()\n",
    "trips[:5]"
   ]
  },
  {
   "cell_type": "markdown",
   "metadata": {},
   "source": [
    "#### Benchmark\n",
    "Often, a reasonable estimate of something is its historical average. We can therefore benchmark our machine learning model against the historical average."
   ]
  },
  {
   "cell_type": "code",
   "execution_count": 12,
   "metadata": {
    "collapsed": false
   },
   "outputs": [
    {
     "name": "stdout",
     "output_type": "stream",
     "text": [
      "Just using average=400309.558904 has RMSE of 51613.6516905\n"
     ]
    }
   ],
   "source": [
    "avg = np.mean(trips['numtrips'])\n",
    "print 'Just using average={0} has RMSE of {1}'.format(avg, np.sqrt(np.mean((trips['numtrips'] - avg)**2)))"
   ]
  },
  {
   "cell_type": "markdown",
   "metadata": {},
   "source": [
    "\n",
    "The mean here is about 400,000 and the root-mean-square-error (RMSE) in this case is about 52,000. In other words, if we were to estimate that there are 400,000 taxi trips on any given day, that estimate is will be off on average by about 52,000 in either direction.\n",
    "\n",
    "Let's see if we can do better than this -- our goal is to make predictions of taxicab demand whose RMSE is lower than 52,000.\n",
    "\n",
    "What kinds of things affect people's use of taxicabs?"
   ]
  },
  {
   "cell_type": "markdown",
   "metadata": {},
   "source": [
    "### Weather data\n",
    "We suspect that weather influences how often people use a taxi. Perhaps someone who'd normally walk to work would take a taxi if it is very cold or rainy.\n",
    "\n",
    "One of the advantages of using a global data warehouse like BigQuery is that you get to mash up unrelated datasets quite easily."
   ]
  },
  {
   "cell_type": "code",
   "execution_count": 14,
   "metadata": {
    "collapsed": false
   },
   "outputs": [
    {
     "data": {
      "text/html": [
       "\n",
       "    <div class=\"bqtv\" id=\"3_151848432898\"><table><tr><th>usaf</th><th>wban</th><th>name</th><th>country</th><th>state</th><th>call</th><th>lat</th><th>lon</th><th>elev</th><th>begin</th><th>end</th></tr><tr><td>725030</td><td>14732</td><td>LA GUARDIA AIRPORT</td><td>US</td><td>NY</td><td>KLGA</td><td>40.779</td><td>-73.88</td><td>+0003.4</td><td>19730101</td><td>20180212</td></tr></table></div>\n",
       "    <br />(rows: 1, time: 1.6s,     2MB processed, job: job_kvQnBNZ3-KBReXm7WLX_2rHwwEMz)<br />\n",
       "    <script>\n",
       "\n",
       "      require.config({\n",
       "        paths: {\n",
       "          d3: '//cdnjs.cloudflare.com/ajax/libs/d3/3.4.13/d3',\n",
       "          plotly: 'https://cdn.plot.ly/plotly-1.5.1.min.js?noext',\n",
       "          jquery: '//ajax.googleapis.com/ajax/libs/jquery/2.0.0/jquery.min'\n",
       "        },\n",
       "        map: {\n",
       "          '*': {\n",
       "            datalab: 'nbextensions/gcpdatalab'\n",
       "          }\n",
       "        },\n",
       "        shim: {\n",
       "          plotly: {\n",
       "            deps: ['d3', 'jquery'],\n",
       "            exports: 'plotly'\n",
       "          }\n",
       "        }\n",
       "      });\n",
       "\n",
       "      require(['datalab/charting', 'datalab/element!3_151848432898', 'base/js/events',\n",
       "          'datalab/style!/nbextensions/gcpdatalab/charting.css'],\n",
       "        function(charts, dom, events) {\n",
       "          charts.render('gcharts', dom, events, 'table', [], {\"rows\": [{\"c\": [{\"v\": \"725030\"}, {\"v\": \"14732\"}, {\"v\": \"LA GUARDIA AIRPORT\"}, {\"v\": \"US\"}, {\"v\": \"NY\"}, {\"v\": \"KLGA\"}, {\"v\": 40.779}, {\"v\": -73.88}, {\"v\": \"+0003.4\"}, {\"v\": \"19730101\"}, {\"v\": \"20180212\"}]}], \"cols\": [{\"type\": \"string\", \"id\": \"usaf\", \"label\": \"usaf\"}, {\"type\": \"string\", \"id\": \"wban\", \"label\": \"wban\"}, {\"type\": \"string\", \"id\": \"name\", \"label\": \"name\"}, {\"type\": \"string\", \"id\": \"country\", \"label\": \"country\"}, {\"type\": \"string\", \"id\": \"state\", \"label\": \"state\"}, {\"type\": \"string\", \"id\": \"call\", \"label\": \"call\"}, {\"type\": \"number\", \"id\": \"lat\", \"label\": \"lat\"}, {\"type\": \"number\", \"id\": \"lon\", \"label\": \"lon\"}, {\"type\": \"string\", \"id\": \"elev\", \"label\": \"elev\"}, {\"type\": \"string\", \"id\": \"begin\", \"label\": \"begin\"}, {\"type\": \"string\", \"id\": \"end\", \"label\": \"end\"}]},\n",
       "            {\n",
       "              pageSize: 25,\n",
       "              cssClassNames:  {\n",
       "                tableRow: 'gchart-table-row',\n",
       "                headerRow: 'gchart-table-headerrow',\n",
       "                oddTableRow: 'gchart-table-oddrow',\n",
       "                selectedTableRow: 'gchart-table-selectedrow',\n",
       "                hoverTableRow: 'gchart-table-hoverrow',\n",
       "                tableCell: 'gchart-table-cell',\n",
       "                headerCell: 'gchart-table-headercell',\n",
       "                rowNumberCell: 'gchart-table-rownumcell'\n",
       "              }\n",
       "            },\n",
       "            {source_index: 1, fields: 'usaf,wban,name,country,state,call,lat,lon,elev,begin,end'},\n",
       "            0,\n",
       "            1);\n",
       "        }\n",
       "      );\n",
       "    </script>\n",
       "  "
      ],
      "text/plain": [
       "QueryResultsTable job_kvQnBNZ3-KBReXm7WLX_2rHwwEMz"
      ]
     },
     "execution_count": 14,
     "metadata": {},
     "output_type": "execute_result"
    }
   ],
   "source": [
    "%bq query\n",
    "SELECT * FROM `bigquery-public-data.noaa_gsod.stations`\n",
    "WHERE state = 'NY' AND wban != '99999' AND name like '%LA GUARDIA%'"
   ]
  },
  {
   "cell_type": "markdown",
   "metadata": {},
   "source": [
    "#### Variables\n",
    "Let's pull out the minimum and maximum daily temperature (in Fahrenheit) as well as the amount of rain (in inches) for La Guardia airport."
   ]
  },
  {
   "cell_type": "code",
   "execution_count": 16,
   "metadata": {
    "collapsed": true
   },
   "outputs": [],
   "source": [
    "%bq query -n weatherquery\n",
    "SELECT EXTRACT (DAYOFYEAR FROM CAST(CONCAT(@YEAR, '-', mo, '-',da) AS TIMESTAMP)) AS daynumber,\n",
    "  MIN(EXTRACT (DAYOFWEEK FROM CAST(CONCAT(@YEAR, '-',mo,'-',da) AS TIMESTAMP))) dayofweek,\n",
    "  MIN(min) mintemp, MAX(max) maxtemp, MAX(IF(prcp=99.99,0,prcp)) rain\n",
    "FROM `bigquery-public-data.noaa_gsod.gsod*`\n",
    "WHERE stn='725030' AND _TABLE_SUFFIX = @YEAR\n",
    "GROUP BY 1 ORDER BY daynumber DESC"
   ]
  },
  {
   "cell_type": "code",
   "execution_count": 18,
   "metadata": {
    "collapsed": false
   },
   "outputs": [
    {
     "data": {
      "text/html": [
       "<div>\n",
       "<table border=\"1\" class=\"dataframe\">\n",
       "  <thead>\n",
       "    <tr style=\"text-align: right;\">\n",
       "      <th></th>\n",
       "      <th>daynumber</th>\n",
       "      <th>dayofweek</th>\n",
       "      <th>mintemp</th>\n",
       "      <th>maxtemp</th>\n",
       "      <th>rain</th>\n",
       "    </tr>\n",
       "  </thead>\n",
       "  <tbody>\n",
       "    <tr>\n",
       "      <th>0</th>\n",
       "      <td>365</td>\n",
       "      <td>5</td>\n",
       "      <td>46.0</td>\n",
       "      <td>48.2</td>\n",
       "      <td>0.17</td>\n",
       "    </tr>\n",
       "    <tr>\n",
       "      <th>1</th>\n",
       "      <td>364</td>\n",
       "      <td>4</td>\n",
       "      <td>34.0</td>\n",
       "      <td>48.0</td>\n",
       "      <td>0.13</td>\n",
       "    </tr>\n",
       "    <tr>\n",
       "      <th>2</th>\n",
       "      <td>363</td>\n",
       "      <td>3</td>\n",
       "      <td>33.8</td>\n",
       "      <td>46.9</td>\n",
       "      <td>0.37</td>\n",
       "    </tr>\n",
       "    <tr>\n",
       "      <th>3</th>\n",
       "      <td>362</td>\n",
       "      <td>2</td>\n",
       "      <td>39.0</td>\n",
       "      <td>62.1</td>\n",
       "      <td>0.02</td>\n",
       "    </tr>\n",
       "    <tr>\n",
       "      <th>4</th>\n",
       "      <td>361</td>\n",
       "      <td>1</td>\n",
       "      <td>46.0</td>\n",
       "      <td>62.6</td>\n",
       "      <td>0.14</td>\n",
       "    </tr>\n",
       "  </tbody>\n",
       "</table>\n",
       "</div>"
      ],
      "text/plain": [
       "   daynumber  dayofweek  mintemp  maxtemp  rain\n",
       "0        365          5     46.0     48.2  0.17\n",
       "1        364          4     34.0     48.0  0.13\n",
       "2        363          3     33.8     46.9  0.37\n",
       "3        362          2     39.0     62.1  0.02\n",
       "4        361          1     46.0     62.6  0.14"
      ]
     },
     "execution_count": 18,
     "metadata": {},
     "output_type": "execute_result"
    }
   ],
   "source": [
    "query_parameters = [\n",
    "  {\n",
    "    'name': 'YEAR',\n",
    "    'parameterType': {'type': 'STRING'},\n",
    "    'parameterValue': {'value': 2015}\n",
    "  }\n",
    "]\n",
    "weather = weatherquery.execute(query_params=query_parameters).result().to_dataframe()\n",
    "weather[:5]"
   ]
  },
  {
   "cell_type": "markdown",
   "metadata": {},
   "source": [
    "#### Merge datasets\n",
    "Let's use Pandas to merge (combine) the taxi cab and weather datasets day-by-day."
   ]
  },
  {
   "cell_type": "code",
   "execution_count": 19,
   "metadata": {
    "collapsed": false
   },
   "outputs": [
    {
     "data": {
      "text/html": [
       "<div>\n",
       "<table border=\"1\" class=\"dataframe\">\n",
       "  <thead>\n",
       "    <tr style=\"text-align: right;\">\n",
       "      <th></th>\n",
       "      <th>daynumber</th>\n",
       "      <th>dayofweek</th>\n",
       "      <th>mintemp</th>\n",
       "      <th>maxtemp</th>\n",
       "      <th>rain</th>\n",
       "      <th>numtrips</th>\n",
       "    </tr>\n",
       "  </thead>\n",
       "  <tbody>\n",
       "    <tr>\n",
       "      <th>0</th>\n",
       "      <td>365</td>\n",
       "      <td>5</td>\n",
       "      <td>46.0</td>\n",
       "      <td>48.2</td>\n",
       "      <td>0.17</td>\n",
       "      <td>339939</td>\n",
       "    </tr>\n",
       "    <tr>\n",
       "      <th>1</th>\n",
       "      <td>364</td>\n",
       "      <td>4</td>\n",
       "      <td>34.0</td>\n",
       "      <td>48.0</td>\n",
       "      <td>0.13</td>\n",
       "      <td>319649</td>\n",
       "    </tr>\n",
       "    <tr>\n",
       "      <th>2</th>\n",
       "      <td>363</td>\n",
       "      <td>3</td>\n",
       "      <td>33.8</td>\n",
       "      <td>46.9</td>\n",
       "      <td>0.37</td>\n",
       "      <td>311730</td>\n",
       "    </tr>\n",
       "    <tr>\n",
       "      <th>3</th>\n",
       "      <td>362</td>\n",
       "      <td>2</td>\n",
       "      <td>39.0</td>\n",
       "      <td>62.1</td>\n",
       "      <td>0.02</td>\n",
       "      <td>301398</td>\n",
       "    </tr>\n",
       "    <tr>\n",
       "      <th>4</th>\n",
       "      <td>361</td>\n",
       "      <td>1</td>\n",
       "      <td>46.0</td>\n",
       "      <td>62.6</td>\n",
       "      <td>0.14</td>\n",
       "      <td>268841</td>\n",
       "    </tr>\n",
       "  </tbody>\n",
       "</table>\n",
       "</div>"
      ],
      "text/plain": [
       "   daynumber  dayofweek  mintemp  maxtemp  rain  numtrips\n",
       "0        365          5     46.0     48.2  0.17    339939\n",
       "1        364          4     34.0     48.0  0.13    319649\n",
       "2        363          3     33.8     46.9  0.37    311730\n",
       "3        362          2     39.0     62.1  0.02    301398\n",
       "4        361          1     46.0     62.6  0.14    268841"
      ]
     },
     "execution_count": 19,
     "metadata": {},
     "output_type": "execute_result"
    }
   ],
   "source": [
    "data = pd.merge(weather, trips, on='daynumber')\n",
    "data[:5]"
   ]
  },
  {
   "cell_type": "markdown",
   "metadata": {},
   "source": [
    "### Exploratory analysis\n",
    "Is there a relationship between maximum temperature and the number of trips?"
   ]
  },
  {
   "cell_type": "code",
   "execution_count": 20,
   "metadata": {
    "collapsed": false
   },
   "outputs": [
    {
     "data": {
      "image/png": "[encoded data removed]",
      "text/plain": [
       "<matplotlib.figure.Figure at 0x7f31ba9f2b90>"
      ]
     },
     "metadata": {},
     "output_type": "display_data"
    }
   ],
   "source": [
    "j = data.plot(kind='scatter', x='maxtemp', y='numtrips')\n"
   ]
  },
  {
   "cell_type": "markdown",
   "metadata": {},
   "source": [
    "Is there a relationship between the day of the week and the number of trips?"
   ]
  },
  {
   "cell_type": "code",
   "execution_count": 21,
   "metadata": {
    "collapsed": false
   },
   "outputs": [
    {
     "data": {
      "image/png": "[encoded data removed]",
      "text/plain": [
       "<matplotlib.figure.Figure at 0x7f31b889c490>"
      ]
     },
     "metadata": {},
     "output_type": "display_data"
    }
   ],
   "source": [
    "j = data.plot(kind='scatter', x='dayofweek', y='numtrips')\n"
   ]
  },
  {
   "cell_type": "markdown",
   "metadata": {},
   "source": [
    "Perhaps if we took out the confounding effect of the day of the week, maximum temperature will start to have an effect. Let's see if that's the case:"
   ]
  },
  {
   "cell_type": "code",
   "execution_count": 22,
   "metadata": {
    "collapsed": false
   },
   "outputs": [
    {
     "data": {
      "image/png": "[encoded data removed]",
      "text/plain": [
       "<matplotlib.figure.Figure at 0x7f31b8773110>"
      ]
     },
     "metadata": {},
     "output_type": "display_data"
    }
   ],
   "source": [
    "j = data[data['dayofweek'] == 7].plot(kind='scatter', x='maxtemp', y='numtrips')"
   ]
  },
  {
   "cell_type": "markdown",
   "metadata": {},
   "source": [
    "### Adding 2014 and 2016 data\n"
   ]
  },
  {
   "cell_type": "code",
   "execution_count": 23,
   "metadata": {
    "collapsed": false
   },
   "outputs": [
    {
     "data": {
      "text/html": [
       "<div>\n",
       "<table border=\"1\" class=\"dataframe\">\n",
       "  <thead>\n",
       "    <tr style=\"text-align: right;\">\n",
       "      <th></th>\n",
       "      <th>daynumber</th>\n",
       "      <th>dayofweek</th>\n",
       "      <th>mintemp</th>\n",
       "      <th>maxtemp</th>\n",
       "      <th>rain</th>\n",
       "      <th>numtrips</th>\n",
       "    </tr>\n",
       "  </thead>\n",
       "  <tbody>\n",
       "    <tr>\n",
       "      <th>count</th>\n",
       "      <td>1096.000000</td>\n",
       "      <td>1096.000000</td>\n",
       "      <td>1096.000000</td>\n",
       "      <td>1096.000000</td>\n",
       "      <td>1096.000000</td>\n",
       "      <td>1096.000000</td>\n",
       "    </tr>\n",
       "    <tr>\n",
       "      <th>mean</th>\n",
       "      <td>183.166971</td>\n",
       "      <td>4.005474</td>\n",
       "      <td>48.195073</td>\n",
       "      <td>66.151825</td>\n",
       "      <td>0.117272</td>\n",
       "      <td>403642.694343</td>\n",
       "    </tr>\n",
       "    <tr>\n",
       "      <th>std</th>\n",
       "      <td>105.510927</td>\n",
       "      <td>2.000449</td>\n",
       "      <td>18.031228</td>\n",
       "      <td>18.484065</td>\n",
       "      <td>0.320836</td>\n",
       "      <td>63767.524397</td>\n",
       "    </tr>\n",
       "    <tr>\n",
       "      <th>min</th>\n",
       "      <td>1.000000</td>\n",
       "      <td>1.000000</td>\n",
       "      <td>1.000000</td>\n",
       "      <td>21.000000</td>\n",
       "      <td>0.000000</td>\n",
       "      <td>78133.000000</td>\n",
       "    </tr>\n",
       "    <tr>\n",
       "      <th>25%</th>\n",
       "      <td>92.000000</td>\n",
       "      <td>2.000000</td>\n",
       "      <td>35.100000</td>\n",
       "      <td>51.950000</td>\n",
       "      <td>0.000000</td>\n",
       "      <td>363809.000000</td>\n",
       "    </tr>\n",
       "    <tr>\n",
       "      <th>50%</th>\n",
       "      <td>183.000000</td>\n",
       "      <td>4.000000</td>\n",
       "      <td>48.900000</td>\n",
       "      <td>68.000000</td>\n",
       "      <td>0.000000</td>\n",
       "      <td>402184.500000</td>\n",
       "    </tr>\n",
       "    <tr>\n",
       "      <th>75%</th>\n",
       "      <td>274.250000</td>\n",
       "      <td>6.000000</td>\n",
       "      <td>64.400000</td>\n",
       "      <td>82.900000</td>\n",
       "      <td>0.050000</td>\n",
       "      <td>447099.000000</td>\n",
       "    </tr>\n",
       "    <tr>\n",
       "      <th>max</th>\n",
       "      <td>366.000000</td>\n",
       "      <td>7.000000</td>\n",
       "      <td>82.000000</td>\n",
       "      <td>99.000000</td>\n",
       "      <td>4.880000</td>\n",
       "      <td>574530.000000</td>\n",
       "    </tr>\n",
       "  </tbody>\n",
       "</table>\n",
       "</div>"
      ],
      "text/plain": [
       "         daynumber    dayofweek      mintemp      maxtemp         rain  \\\n",
       "count  1096.000000  1096.000000  1096.000000  1096.000000  1096.000000   \n",
       "mean    183.166971     4.005474    48.195073    66.151825     0.117272   \n",
       "std     105.510927     2.000449    18.031228    18.484065     0.320836   \n",
       "min       1.000000     1.000000     1.000000    21.000000     0.000000   \n",
       "25%      92.000000     2.000000    35.100000    51.950000     0.000000   \n",
       "50%     183.000000     4.000000    48.900000    68.000000     0.000000   \n",
       "75%     274.250000     6.000000    64.400000    82.900000     0.050000   \n",
       "max     366.000000     7.000000    82.000000    99.000000     4.880000   \n",
       "\n",
       "            numtrips  \n",
       "count    1096.000000  \n",
       "mean   403642.694343  \n",
       "std     63767.524397  \n",
       "min     78133.000000  \n",
       "25%    363809.000000  \n",
       "50%    402184.500000  \n",
       "75%    447099.000000  \n",
       "max    574530.000000  "
      ]
     },
     "execution_count": 23,
     "metadata": {},
     "output_type": "execute_result"
    }
   ],
   "source": [
    "data2 = data # 2015 data\n",
    "for year in [2014, 2016]:\n",
    "    query_parameters = [\n",
    "      {\n",
    "        'name': 'YEAR',\n",
    "        'parameterType': {'type': 'STRING'},\n",
    "        'parameterValue': {'value': year}\n",
    "      }\n",
    "    ]\n",
    "    weather = weatherquery.execute(query_params=query_parameters).result().to_dataframe()\n",
    "    trips = taxiquery.execute(query_params=query_parameters).result().to_dataframe()\n",
    "    data_for_year = pd.merge(weather, trips, on='daynumber')\n",
    "    data2 = pd.concat([data2, data_for_year])\n",
    "data2.describe()"
   ]
  },
  {
   "cell_type": "markdown",
   "metadata": {},
   "source": [
    "## Tensorflow tutorial"
   ]
  }
 ],
 "metadata": {
  "kernelspec": {
   "display_name": "Python 2",
   "language": "python",
   "name": "python2"
  },
  "language_info": {
   "codemirror_mode": {
    "name": "ipython",
    "version": 2
   },
   "file_extension": ".py",
   "mimetype": "text/x-python",
   "name": "python",
   "nbconvert_exporter": "python",
   "pygments_lexer": "ipython2",
   "version": "2.7.9"
  }
 },
 "nbformat": 4,
 "nbformat_minor": 2
}
